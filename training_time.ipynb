{
 "cells": [
  {
   "cell_type": "markdown",
   "metadata": {},
   "source": [
    "# Training Time Estimation"
   ]
  },
  {
   "cell_type": "code",
   "execution_count": null,
   "metadata": {},
   "outputs": [],
   "source": [
    "%load_ext autoreload\n",
    "\n",
    "%autoreload 2\n",
    "import pandas as pd"
   ]
  },
  {
   "cell_type": "markdown",
   "metadata": {},
   "source": [
    "## Models training performance on H100"
   ]
  },
  {
   "cell_type": "code",
   "execution_count": null,
   "metadata": {},
   "outputs": [],
   "source": [
    "import pandas as pd\n",
    "\n",
    "# Creando la tabla en un DataFrame\n",
    "data = {\n",
    "    \"Model\": [\"GPT3-5B\", \"GPT3-20B\", \"GPT3-175B\", \"GPT3-175B\", \"LLAMA2-7B\", \"LLAMA2-13B\", \"LLAMA2-70B\", \"Nemotron-8B\", \"Nemotron-22B\", \"Nemotron-340B\", \"LLAMA3-8B\", \"LLAMA3-70B\"],\n",
    "    \"#-GPUs\": [64, 64, 128, 512, 8, 16, 64, 64, 64, 128, 8, 64],\n",
    "    \"GBS\": [2048, 256, 256, 2048, 128, 128, 128, 256, 256, 32, 128, 128],\n",
    "    \"MBS\": [4, 2, 1, 2, 1, 1, 1, 4, 2, 1, 1, 1],\n",
    "    \"Sequence Length\": [2048, 2048, 2048, 2048, 4096, 4096, 4096, 4096, 4096, 4096, 8192, 8192],\n",
    "    \"TP\": [1, 2, 4, 4, 1, 1, 4, 2, 2, 8, 1, 4],\n",
    "    \"PP\": [1, 1, 8, 8, 1, 4, 4, 1, 4, 8, 1, 4],\n",
    "    \"CP\": [1, 1, 1, 1, 1, 1, 1, 1, 1, 1, 2, 2],\n",
    "    \"VP\": [1, 1, 6, 6, 1, 10, 20, 1, 10, 12, 1, 5],\n",
    "    \"Tokens / sec / GPU\": [23406, 5851, 716, 825, 16934, 8715, 1728, 12507, 4312, 326, 12273, 1524],\n",
    "    \"Model TFLOP / sec / GPU\": [765, 750, 771, 888, 780, 760, 768, 643, 562, 686, 711, 734],\n",
    "    \"Est. time to train in days (10T tokens, 1K GPUs)\": [5, 19, 158, 137, 7, 13, 65, 9, 26, 347, 9, 74]\n",
    "}\n",
    "\n",
    "df = pd.DataFrame(data)\n",
    "df"
   ]
  },
  {
   "cell_type": "code",
   "execution_count": null,
   "metadata": {},
   "outputs": [],
   "source": [
    "ZERO_DICT = {\n",
    "    'T': 12,  # Trillion\n",
    "    'B': 9,   # Billion\n",
    "    'M': 6,   # Million\n",
    "    'K': 3,   # Thousand\n",
    "    '': 0     # Base case (less than 1,000)\n",
    "}\n",
    "\n",
    "def format_numbres(num):\n",
    "    for suffix, zeros in ZERO_DICT.items():\n",
    "        if abs(num) >= 10 ** zeros:\n",
    "            value = num / (10 ** zeros)\n",
    "            return f\"{value:.0f}e{zeros} ({suffix})\"\n",
    "    return f\"{num:.0f}e0\"\n",
    "\n",
    "def training_time(\n",
    "    tokens_per_second: int = 23406,\n",
    "    model_name: str = \"GPT3-5B\",\n",
    "    n_gpus: int = 1000,\n",
    "    n_tokens: int = 10_000_000_000_000,\n",
    "    time_format: str = \"D\",\n",
    "):\n",
    "    total_time = n_tokens / (tokens_per_second * n_gpus)\n",
    "    if time_format == \"D\":\n",
    "        return round(total_time / (24 * 60 * 60))\n",
    "\n",
    "def training_tokens(tokens_per_second: int = 23406,\n",
    "    model_name: str = \"GPT3-5B\", n_gpus: int=96, n_days: int=30):\n",
    "    \"\"\" Calculate the amount of tokens that a fixed numbers of H200 gpu's can process\"\"\"\n",
    "    h200_tps = tokens_per_second * 1.4\n",
    "    t_tokens = (n_days * 24 * 60 * 60)* (h200_tps * n_gpus)\n",
    "    return t_tokens"
   ]
  },
  {
   "cell_type": "code",
   "execution_count": null,
   "metadata": {},
   "outputs": [],
   "source": [
    "# Add new columns for training time and tokens\n",
    "df['Training Days (10T tokens, 1K GPUs)'] = df.apply(lambda row: training_time(row['Tokens / sec / GPU'], row['Model']), axis=1)\n",
    "df['Training Tokens (30 days, 96 GPUs)'] = df.apply(lambda row: training_tokens(row['Tokens / sec / GPU'], row['Model']), axis=1)\n",
    "\n",
    "# Display the updated dataframe\n",
    "df"
   ]
  }
 ],
 "metadata": {
  "kernelspec": {
   "display_name": "Python 3",
   "language": "python",
   "name": "python3"
  },
  "language_info": {
   "codemirror_mode": {
    "name": "ipython",
    "version": 3
   },
   "file_extension": ".py",
   "mimetype": "text/x-python",
   "name": "python",
   "nbconvert_exporter": "python",
   "pygments_lexer": "ipython3",
   "version": "3.8.5"
  }
 },
 "nbformat": 4,
 "nbformat_minor": 4
}
